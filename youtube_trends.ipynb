{
  "metadata": {
    "kernelspec": {
      "language": "python",
      "display_name": "Python 3",
      "name": "python3"
    },
    "language_info": {
      "name": "python",
      "version": "3.11.13",
      "mimetype": "text/x-python",
      "codemirror_mode": {
        "name": "ipython",
        "version": 3
      },
      "pygments_lexer": "ipython3",
      "nbconvert_exporter": "python",
      "file_extension": ".py"
    },
    "kaggle": {
      "accelerator": "none",
      "dataSources": [],
      "dockerImageVersionId": 31153,
      "isInternetEnabled": true,
      "language": "python",
      "sourceType": "notebook",
      "isGpuEnabled": false
    },
    "colab": {
      "provenance": []
    }
  },
  "nbformat_minor": 0,
  "nbformat": 4,
  "cells": [
    {
      "cell_type": "code",
      "source": [
        "# Install Packages\n",
        "!pip install google-api-python-client google-cloud-bigquery-storage pycountry"
      ],
      "metadata": {
        "_uuid": "8f2839f25d086af736a60e9eeb907d3b93b6e0e5",
        "_cell_guid": "b1076dfc-b9ad-4769-8c92-a6c4dae69d19",
        "trusted": true,
        "execution": {
          "iopub.status.busy": "2025-10-23T14:28:38.719408Z",
          "iopub.execute_input": "2025-10-23T14:28:38.719711Z",
          "iopub.status.idle": "2025-10-23T14:28:42.841881Z",
          "shell.execute_reply.started": "2025-10-23T14:28:38.719688Z",
          "shell.execute_reply": "2025-10-23T14:28:42.840597Z"
        },
        "id": "-xgx-eLxfVno",
        "outputId": "388ee443-86eb-4295-e70d-4b3a8cf3661a"
      },
      "outputs": [
        {
          "name": "stdout",
          "text": "Requirement already satisfied: google-api-python-client in /usr/local/lib/python3.11/dist-packages (2.177.0)\nRequirement already satisfied: google-cloud-bigquery-storage in /usr/local/lib/python3.11/dist-packages (2.33.1)\nRequirement already satisfied: pycountry in /usr/local/lib/python3.11/dist-packages (24.6.1)\nRequirement already satisfied: httplib2<1.0.0,>=0.19.0 in /usr/local/lib/python3.11/dist-packages (from google-api-python-client) (0.22.0)\nRequirement already satisfied: google-auth!=2.24.0,!=2.25.0,<3.0.0,>=1.32.0 in /usr/local/lib/python3.11/dist-packages (from google-api-python-client) (2.40.3)\nRequirement already satisfied: google-auth-httplib2<1.0.0,>=0.2.0 in /usr/local/lib/python3.11/dist-packages (from google-api-python-client) (0.2.0)\nRequirement already satisfied: google-api-core!=2.0.*,!=2.1.*,!=2.2.*,!=2.3.0,<3.0.0,>=1.31.5 in /usr/local/lib/python3.11/dist-packages (from google-api-python-client) (1.34.1)\nRequirement already satisfied: uritemplate<5,>=3.0.1 in /usr/local/lib/python3.11/dist-packages (from google-api-python-client) (4.2.0)\nRequirement already satisfied: proto-plus<2.0.0,>=1.22.3 in /usr/local/lib/python3.11/dist-packages (from google-cloud-bigquery-storage) (1.26.1)\nRequirement already satisfied: protobuf!=4.21.0,!=4.21.1,!=4.21.2,!=4.21.3,!=4.21.4,!=4.21.5,<7.0.0,>=3.20.2 in /usr/local/lib/python3.11/dist-packages (from google-cloud-bigquery-storage) (3.20.3)\nRequirement already satisfied: googleapis-common-protos<2.0dev,>=1.56.2 in /usr/local/lib/python3.11/dist-packages (from google-api-core!=2.0.*,!=2.1.*,!=2.2.*,!=2.3.0,<3.0.0,>=1.31.5->google-api-python-client) (1.70.0)\nRequirement already satisfied: requests<3.0.0dev,>=2.18.0 in /usr/local/lib/python3.11/dist-packages (from google-api-core!=2.0.*,!=2.1.*,!=2.2.*,!=2.3.0,<3.0.0,>=1.31.5->google-api-python-client) (2.32.5)\nRequirement already satisfied: grpcio<2.0dev,>=1.33.2 in /usr/local/lib/python3.11/dist-packages (from google-api-core[grpc]!=2.0.*,!=2.1.*,!=2.10.*,!=2.2.*,!=2.3.*,!=2.4.*,!=2.5.*,!=2.6.*,!=2.7.*,!=2.8.*,!=2.9.*,<3.0.0,>=1.34.1->google-cloud-bigquery-storage) (1.75.1)\nRequirement already satisfied: grpcio-status<2.0dev,>=1.33.2 in /usr/local/lib/python3.11/dist-packages (from google-api-core[grpc]!=2.0.*,!=2.1.*,!=2.10.*,!=2.2.*,!=2.3.*,!=2.4.*,!=2.5.*,!=2.6.*,!=2.7.*,!=2.8.*,!=2.9.*,<3.0.0,>=1.34.1->google-cloud-bigquery-storage) (1.49.0rc1)\nRequirement already satisfied: cachetools<6.0,>=2.0.0 in /usr/local/lib/python3.11/dist-packages (from google-auth!=2.24.0,!=2.25.0,<3.0.0,>=1.32.0->google-api-python-client) (5.5.2)\nRequirement already satisfied: pyasn1-modules>=0.2.1 in /usr/local/lib/python3.11/dist-packages (from google-auth!=2.24.0,!=2.25.0,<3.0.0,>=1.32.0->google-api-python-client) (0.4.2)\nRequirement already satisfied: rsa<5,>=3.1.4 in /usr/local/lib/python3.11/dist-packages (from google-auth!=2.24.0,!=2.25.0,<3.0.0,>=1.32.0->google-api-python-client) (4.9.1)\nRequirement already satisfied: pyparsing!=3.0.0,!=3.0.1,!=3.0.2,!=3.0.3,<4,>=2.4.2 in /usr/local/lib/python3.11/dist-packages (from httplib2<1.0.0,>=0.19.0->google-api-python-client) (3.0.9)\nRequirement already satisfied: typing-extensions~=4.12 in /usr/local/lib/python3.11/dist-packages (from grpcio<2.0dev,>=1.33.2->google-api-core[grpc]!=2.0.*,!=2.1.*,!=2.10.*,!=2.2.*,!=2.3.*,!=2.4.*,!=2.5.*,!=2.6.*,!=2.7.*,!=2.8.*,!=2.9.*,<3.0.0,>=1.34.1->google-cloud-bigquery-storage) (4.15.0)\nRequirement already satisfied: pyasn1<0.7.0,>=0.6.1 in /usr/local/lib/python3.11/dist-packages (from pyasn1-modules>=0.2.1->google-auth!=2.24.0,!=2.25.0,<3.0.0,>=1.32.0->google-api-python-client) (0.6.1)\nRequirement already satisfied: charset_normalizer<4,>=2 in /usr/local/lib/python3.11/dist-packages (from requests<3.0.0dev,>=2.18.0->google-api-core!=2.0.*,!=2.1.*,!=2.2.*,!=2.3.0,<3.0.0,>=1.31.5->google-api-python-client) (3.4.3)\nRequirement already satisfied: idna<4,>=2.5 in /usr/local/lib/python3.11/dist-packages (from requests<3.0.0dev,>=2.18.0->google-api-core!=2.0.*,!=2.1.*,!=2.2.*,!=2.3.0,<3.0.0,>=1.31.5->google-api-python-client) (3.10)\nRequirement already satisfied: urllib3<3,>=1.21.1 in /usr/local/lib/python3.11/dist-packages (from requests<3.0.0dev,>=2.18.0->google-api-core!=2.0.*,!=2.1.*,!=2.2.*,!=2.3.0,<3.0.0,>=1.31.5->google-api-python-client) (2.5.0)\nRequirement already satisfied: certifi>=2017.4.17 in /usr/local/lib/python3.11/dist-packages (from requests<3.0.0dev,>=2.18.0->google-api-core!=2.0.*,!=2.1.*,!=2.2.*,!=2.3.0,<3.0.0,>=1.31.5->google-api-python-client) (2025.8.3)\n",
          "output_type": "stream"
        }
      ],
      "execution_count": null
    },
    {
      "cell_type": "code",
      "source": [
        "# --- 1. SETUP AND AUTHENTICATION ---\n",
        "\n",
        "from googleapiclient.discovery import build\n",
        "from google.cloud import bigquery\n",
        "from datetime import datetime\n",
        "import pandas as pd\n",
        "import pycountry\n",
        "import time\n",
        "import os\n",
        "\n",
        "# Initialize the YouTube Data API client\n",
        "youtube = build(\"youtube\", \"v3\", developerKey=os.getenv(\"YOUTUBE_API_KEY\"))\n",
        "\n",
        "print(\"✅ YouTube client initialized successfully\")"
      ],
      "metadata": {
        "trusted": true,
        "execution": {
          "iopub.status.busy": "2025-10-23T14:28:42.844418Z",
          "iopub.execute_input": "2025-10-23T14:28:42.844838Z",
          "iopub.status.idle": "2025-10-23T14:28:42.859780Z",
          "shell.execute_reply.started": "2025-10-23T14:28:42.844802Z",
          "shell.execute_reply": "2025-10-23T14:28:42.858603Z"
        },
        "id": "J1GGHTPYfVnv",
        "outputId": "8bbdb5d7-58fb-4121-b417-ef6d86bbe623"
      },
      "outputs": [
        {
          "name": "stdout",
          "text": "✅ YouTube client initialized successfully\n",
          "output_type": "stream"
        }
      ],
      "execution_count": null
    },
    {
      "cell_type": "code",
      "source": [
        "# --- 2. DEFINE REQUEST PARAMETERS ---\n",
        "\n",
        "# --- Define African regions with all 54 countries ---\n",
        "regions = {\n",
        "    \"East Africa\": [\"KE\", \"UG\", \"TZ\", \"RW\", \"BI\", \"ET\", \"SO\", \"DJ\", \"ER\", \"SC\", \"MG\", \"MU\"],\n",
        "    \"West Africa\": [\"NG\", \"GH\", \"CI\", \"SN\", \"TG\", \"SL\", \"LR\", \"GM\", \"BF\", \"BJ\", \"NE\", \"ML\", \"GN\", \"GW\", \"CV\"],\n",
        "    \"North Africa\": [\"EG\", \"DZ\", \"MA\", \"TN\", \"LY\", \"SD\"],\n",
        "    \"Southern Africa\": [\"ZA\", \"NA\", \"BW\", \"MZ\", \"ZW\", \"ZM\", \"LS\", \"SZ\", \"AO\", \"MW\"],\n",
        "    \"Central Africa\": [\"CM\", \"CD\", \"CG\", \"GA\", \"GQ\", \"CF\", \"TD\", \"ST\"]\n",
        "}\n",
        "\n",
        "# The API returns results in pages; this keeps track of which page to fetch next\n",
        "next_page_token = None"
      ],
      "metadata": {
        "trusted": true,
        "execution": {
          "iopub.status.busy": "2025-10-23T14:28:42.860824Z",
          "iopub.execute_input": "2025-10-23T14:28:42.861284Z",
          "iopub.status.idle": "2025-10-23T14:28:42.877632Z",
          "shell.execute_reply.started": "2025-10-23T14:28:42.861260Z",
          "shell.execute_reply": "2025-10-23T14:28:42.876716Z"
        },
        "id": "-FBlj4rffVnx"
      },
      "outputs": [],
      "execution_count": null
    },
    {
      "cell_type": "code",
      "source": [
        "# --- Initialize ---\n",
        "videos = []\n",
        "\n",
        "for region, countries in regions.items():\n",
        "    print(f\"Collecting data for {region} ✅\")\n",
        "\n",
        "    for country in countries:\n",
        "        # --- Get full country name ---\n",
        "        try:\n",
        "            country_name = pycountry.countries.get(alpha_2=country).name\n",
        "        except:\n",
        "            country_name = \"Unknown\"\n",
        "\n",
        "        try:\n",
        "            next_page_token = None\n",
        "            while True:\n",
        "                request = youtube.videos().list(\n",
        "                    part=\"snippet,statistics\",\n",
        "                    chart=\"mostPopular\",\n",
        "                    regionCode=country,\n",
        "                    maxResults=50,\n",
        "                    pageToken=next_page_token\n",
        "                )\n",
        "\n",
        "                response = request.execute()\n",
        "\n",
        "                # --- Create a category map ---\n",
        "                category_response = youtube.videoCategories().list(\n",
        "                    part=\"snippet\",\n",
        "                    regionCode=country\n",
        "                ).execute()\n",
        "\n",
        "                category_map = {item[\"id\"]: item[\"snippet\"][\"title\"] for item in category_response.get(\"items\", [])}\n",
        "\n",
        "                for item in response.get(\"items\", []):\n",
        "                    snippet = item.get(\"snippet\", {})\n",
        "                    stats = item.get(\"statistics\", {})\n",
        "\n",
        "                    # Get category info\n",
        "                    category_id = snippet.get(\"categoryId\")\n",
        "                    category_name = category_map.get(category_id, \"Unknown\")\n",
        "\n",
        "                    videos.append({\n",
        "                        \"country_code\": country,\n",
        "                        \"country_name\": country_name,  # ✅ added country name\n",
        "                        \"region\": region,\n",
        "                        \"video_id\": item.get(\"id\"),\n",
        "                        \"title\": snippet.get(\"title\"),\n",
        "                        \"description\": snippet.get(\"description\"),\n",
        "                        \"channel_title\": snippet.get(\"channelTitle\"),\n",
        "                        \"category_id\": category_id,\n",
        "                        \"category_name\": category_name,  # ✅ new field\n",
        "                        \"published_at\": snippet.get(\"publishedAt\"),\n",
        "                        \"tags\": snippet.get(\"tags\", []),\n",
        "                        \"view_count\": int(stats.get(\"viewCount\", 0)),\n",
        "                        \"like_count\": int(stats.get(\"likeCount\", 0)),\n",
        "                        \"comment_count\": int(stats.get(\"commentCount\", 0))\n",
        "                    })\n",
        "\n",
        "                next_page_token = response.get(\"nextPageToken\")\n",
        "                if not next_page_token:\n",
        "                    break\n",
        "\n",
        "        except Exception as e:\n",
        "            # print(f\"  ⚠️ Skipping {country} — Not supported or error occurred: {e}\")\n",
        "            continue\n",
        "\n",
        "print(f\"Total videos retrieved across Africa: {len(videos)} ✅\")"
      ],
      "metadata": {
        "trusted": true,
        "execution": {
          "iopub.status.busy": "2025-10-23T14:28:42.879920Z",
          "iopub.execute_input": "2025-10-23T14:28:42.880231Z",
          "iopub.status.idle": "2025-10-23T14:28:46.607742Z",
          "shell.execute_reply.started": "2025-10-23T14:28:42.880208Z",
          "shell.execute_reply": "2025-10-23T14:28:46.606943Z"
        },
        "id": "Z6fs-s4kfVnz",
        "outputId": "a6d593ed-266e-4a62-f7e1-da42083e86a6"
      },
      "outputs": [
        {
          "name": "stdout",
          "text": "Collecting data for East Africa ✅\nCollecting data for West Africa ✅\nCollecting data for North Africa ✅\nCollecting data for Southern Africa ✅\nCollecting data for Central Africa ✅\nTotal videos retrieved across Africa: 2044 ✅\n",
          "output_type": "stream"
        }
      ],
      "execution_count": null
    },
    {
      "cell_type": "code",
      "source": [
        "# Convert to DataFrame\n",
        "bigdata = pd.DataFrame(videos)\n",
        "bigdata.drop_duplicates(subset=[\"video_id\", \"country_code\", \"country_name\", \"region\"], keep=\"first\", inplace=True)\n",
        "bigdata = bigdata.reset_index(drop=True)"
      ],
      "metadata": {
        "trusted": true,
        "execution": {
          "iopub.status.busy": "2025-10-23T14:28:46.608599Z",
          "iopub.execute_input": "2025-10-23T14:28:46.608823Z",
          "iopub.status.idle": "2025-10-23T14:28:46.630621Z",
          "shell.execute_reply.started": "2025-10-23T14:28:46.608806Z",
          "shell.execute_reply": "2025-10-23T14:28:46.629595Z"
        },
        "id": "d9w0C8h7fVn1"
      },
      "outputs": [],
      "execution_count": null
    },
    {
      "cell_type": "code",
      "source": [
        "bigdata.info()"
      ],
      "metadata": {
        "trusted": true,
        "execution": {
          "iopub.status.busy": "2025-10-23T14:28:46.631869Z",
          "iopub.execute_input": "2025-10-23T14:28:46.632181Z",
          "iopub.status.idle": "2025-10-23T14:28:46.659750Z",
          "shell.execute_reply.started": "2025-10-23T14:28:46.632149Z",
          "shell.execute_reply": "2025-10-23T14:28:46.658489Z"
        },
        "id": "aJWkqIijfVn2",
        "outputId": "42efaefb-2308-4641-a39a-0f84c81c6f31"
      },
      "outputs": [
        {
          "name": "stdout",
          "text": "<class 'pandas.core.frame.DataFrame'>\nRangeIndex: 2044 entries, 0 to 2043\nData columns (total 14 columns):\n #   Column         Non-Null Count  Dtype \n---  ------         --------------  ----- \n 0   country_code   2044 non-null   object\n 1   country_name   2044 non-null   object\n 2   region         2044 non-null   object\n 3   video_id       2044 non-null   object\n 4   title          2044 non-null   object\n 5   description    2044 non-null   object\n 6   channel_title  2044 non-null   object\n 7   category_id    2044 non-null   object\n 8   category_name  2044 non-null   object\n 9   published_at   2044 non-null   object\n 10  tags           2044 non-null   object\n 11  view_count     2044 non-null   int64 \n 12  like_count     2044 non-null   int64 \n 13  comment_count  2044 non-null   int64 \ndtypes: int64(3), object(11)\nmemory usage: 223.7+ KB\n",
          "output_type": "stream"
        }
      ],
      "execution_count": null
    },
    {
      "cell_type": "code",
      "source": [
        "bigdata.head()"
      ],
      "metadata": {
        "trusted": true,
        "execution": {
          "iopub.status.busy": "2025-10-23T14:28:46.660800Z",
          "iopub.execute_input": "2025-10-23T14:28:46.661155Z",
          "iopub.status.idle": "2025-10-23T14:28:46.691197Z",
          "shell.execute_reply.started": "2025-10-23T14:28:46.661128Z",
          "shell.execute_reply": "2025-10-23T14:28:46.690056Z"
        },
        "id": "x3GOrgt3fVn3",
        "outputId": "9c706456-c8f2-4158-b5a2-5eb89ab7172b"
      },
      "outputs": [
        {
          "execution_count": 162,
          "output_type": "execute_result",
          "data": {
            "text/plain": "  country_code country_name       region     video_id  \\\n0           KE        Kenya  East Africa  ws9CaAY6oww   \n1           KE        Kenya  East Africa  R4wiXj9NmEE   \n2           KE        Kenya  East Africa  emFIjOXduCg   \n3           KE        Kenya  East Africa  VrSC_SBgPf4   \n4           KE        Kenya  East Africa  lgoxHC7WF9w   \n\n                                               title  \\\n0  BAHATI - BYE BYE BABA (Raila Odinga Tribute Song)   \n1  Send Help | Official Trailer | In Theaters Jan 30   \n2  Liverpool vs Manchester United | Premier Leagu...   \n3    PRINCE INDAH - TRIBUTE TO RT. HON RAILA ODINGA    \n4  Marvel Television’s Wonder Man | Official Trai...   \n\n                                         description         channel_title  \\\n0  #bahati #bahatikenya #byebyebaba #tribute #rai...          Bahati Kenya   \n1  Rachel McAdams. Dylan O’Brien. SEND HELP.\\n\\nD...  20th Century Studios   \n2  Liverpool vs Manchester United Premier League ...                Wavear   \n3  Artist : Prince Indah\\nTitle : Tribute To Rt. ...     Prince Indah, OGW   \n4  \"Simon Williams. Reading for Wonder Man.\"\\n\\n#...  Marvel Entertainment   \n\n  category_id     category_name          published_at  \\\n0          10             Music  2025-10-16T07:00:07Z   \n1           1  Film & Animation  2025-10-14T16:00:36Z   \n2          20            Gaming  2025-10-19T17:51:22Z   \n3          10             Music  2025-10-16T03:31:00Z   \n4          24     Entertainment  2025-10-11T18:12:35Z   \n\n                                                tags  view_count  like_count  \\\n0  [Bahati, Bahati kenya, kenya, baba, bye bye ba...     1805341       87341   \n1                                          [Trailer]     3188090       62731   \n2                                                 []      655839           0   \n3  [Prince Indah, Tribute To Raila Odinga, Raila,...     1061198       38231   \n4                                   [marvel, comics]     4303922      105224   \n\n   comment_count  \n0           6836  \n1           4246  \n2              2  \n3           4473  \n4           7127  ",
            "text/html": "<div>\n<style scoped>\n    .dataframe tbody tr th:only-of-type {\n        vertical-align: middle;\n    }\n\n    .dataframe tbody tr th {\n        vertical-align: top;\n    }\n\n    .dataframe thead th {\n        text-align: right;\n    }\n</style>\n<table border=\"1\" class=\"dataframe\">\n  <thead>\n    <tr style=\"text-align: right;\">\n      <th></th>\n      <th>country_code</th>\n      <th>country_name</th>\n      <th>region</th>\n      <th>video_id</th>\n      <th>title</th>\n      <th>description</th>\n      <th>channel_title</th>\n      <th>category_id</th>\n      <th>category_name</th>\n      <th>published_at</th>\n      <th>tags</th>\n      <th>view_count</th>\n      <th>like_count</th>\n      <th>comment_count</th>\n    </tr>\n  </thead>\n  <tbody>\n    <tr>\n      <th>0</th>\n      <td>KE</td>\n      <td>Kenya</td>\n      <td>East Africa</td>\n      <td>ws9CaAY6oww</td>\n      <td>BAHATI - BYE BYE BABA (Raila Odinga Tribute Song)</td>\n      <td>#bahati #bahatikenya #byebyebaba #tribute #rai...</td>\n      <td>Bahati Kenya</td>\n      <td>10</td>\n      <td>Music</td>\n      <td>2025-10-16T07:00:07Z</td>\n      <td>[Bahati, Bahati kenya, kenya, baba, bye bye ba...</td>\n      <td>1805341</td>\n      <td>87341</td>\n      <td>6836</td>\n    </tr>\n    <tr>\n      <th>1</th>\n      <td>KE</td>\n      <td>Kenya</td>\n      <td>East Africa</td>\n      <td>R4wiXj9NmEE</td>\n      <td>Send Help | Official Trailer | In Theaters Jan 30</td>\n      <td>Rachel McAdams. Dylan O’Brien. SEND HELP.\\n\\nD...</td>\n      <td>20th Century Studios</td>\n      <td>1</td>\n      <td>Film &amp; Animation</td>\n      <td>2025-10-14T16:00:36Z</td>\n      <td>[Trailer]</td>\n      <td>3188090</td>\n      <td>62731</td>\n      <td>4246</td>\n    </tr>\n    <tr>\n      <th>2</th>\n      <td>KE</td>\n      <td>Kenya</td>\n      <td>East Africa</td>\n      <td>emFIjOXduCg</td>\n      <td>Liverpool vs Manchester United | Premier Leagu...</td>\n      <td>Liverpool vs Manchester United Premier League ...</td>\n      <td>Wavear</td>\n      <td>20</td>\n      <td>Gaming</td>\n      <td>2025-10-19T17:51:22Z</td>\n      <td>[]</td>\n      <td>655839</td>\n      <td>0</td>\n      <td>2</td>\n    </tr>\n    <tr>\n      <th>3</th>\n      <td>KE</td>\n      <td>Kenya</td>\n      <td>East Africa</td>\n      <td>VrSC_SBgPf4</td>\n      <td>PRINCE INDAH - TRIBUTE TO RT. HON RAILA ODINGA</td>\n      <td>Artist : Prince Indah\\nTitle : Tribute To Rt. ...</td>\n      <td>Prince Indah, OGW</td>\n      <td>10</td>\n      <td>Music</td>\n      <td>2025-10-16T03:31:00Z</td>\n      <td>[Prince Indah, Tribute To Raila Odinga, Raila,...</td>\n      <td>1061198</td>\n      <td>38231</td>\n      <td>4473</td>\n    </tr>\n    <tr>\n      <th>4</th>\n      <td>KE</td>\n      <td>Kenya</td>\n      <td>East Africa</td>\n      <td>lgoxHC7WF9w</td>\n      <td>Marvel Television’s Wonder Man | Official Trai...</td>\n      <td>\"Simon Williams. Reading for Wonder Man.\"\\n\\n#...</td>\n      <td>Marvel Entertainment</td>\n      <td>24</td>\n      <td>Entertainment</td>\n      <td>2025-10-11T18:12:35Z</td>\n      <td>[marvel, comics]</td>\n      <td>4303922</td>\n      <td>105224</td>\n      <td>7127</td>\n    </tr>\n  </tbody>\n</table>\n</div>"
          },
          "metadata": {}
        }
      ],
      "execution_count": null
    },
    {
      "cell_type": "code",
      "source": [
        "bigdata.tail()"
      ],
      "metadata": {
        "trusted": true,
        "execution": {
          "iopub.status.busy": "2025-10-23T14:28:46.692473Z",
          "iopub.execute_input": "2025-10-23T14:28:46.692862Z",
          "iopub.status.idle": "2025-10-23T14:28:46.724031Z",
          "shell.execute_reply.started": "2025-10-23T14:28:46.692809Z",
          "shell.execute_reply": "2025-10-23T14:28:46.722914Z"
        },
        "id": "bWmFadDEfVn5",
        "outputId": "f282b2b1-b912-4f7b-de18-93c3fe27cc4e"
      },
      "outputs": [
        {
          "execution_count": 163,
          "output_type": "execute_result",
          "data": {
            "text/plain": "     country_code country_name           region     video_id  \\\n2039           ZW     Zimbabwe  Southern Africa  YRA7DNy3kzk   \n2040           ZW     Zimbabwe  Southern Africa  EN1tMeXQii0   \n2041           ZW     Zimbabwe  Southern Africa  oS6nyaJUxes   \n2042           ZW     Zimbabwe  Southern Africa  DvQiyVkwY94   \n2043           ZW     Zimbabwe  Southern Africa  TEbZsMv2c0Q   \n\n                                                  title  \\\n2039                      NEMZZZ - 8PM [OFFICIAL VIDEO]   \n2040           JISOO X ZAYN - EYES CLOSED (OFFICIAL MV)   \n2041  Dj Tira & Pcee ft Campmasters and General Cmam...   \n2042          Msaki, Jesse Clegg, Sjava - Wayside Lover   \n2043                   Lloyiso - Scary (Official Video)   \n\n                                            description channel_title  \\\n2039  NEMZZZ - 8PM [OFFICIAL VIDEO]\\n\\n‘8PM’ OUT NOW...        Nemzzz   \n2040  JISOO X ZAYN - EYES CLOSED (OFFICIAL MV)\\n\\nFo...         JISOO   \n2041  Brand new music by Dj Tira titled Awungazi.\\n\\...    Ezase Afro   \n2042  Jesse Clegg, Msaki and Sjava's \"Wayside Lover\"...     MsakiVEVO   \n2043  Lloyiso - Scary (Official Video) ♫ Out now: ht...   LloyisoVEVO   \n\n     category_id category_name          published_at  \\\n2039          10         Music  2025-10-17T18:00:36Z   \n2040          10         Music  2025-10-10T04:00:06Z   \n2041          10         Music  2025-10-09T22:00:06Z   \n2042          10         Music  2025-10-08T07:00:05Z   \n2043          10         Music  2025-09-25T17:00:06Z   \n\n                                                   tags  view_count  \\\n2039  [nemz, nemzz, nemzzzz, nemz 8pm, nemzz 8pm, AP...      805094   \n2040  [YG Entertainment, YG, 와이지, K-po​p, BLACKPINK,...    47172408   \n2041  [Afrotainment, Tira, Durban Music, Afro Music,...      646271   \n2042          [Msaki, Jesse Clegg, Sjava, Platoon, Pop]      293964   \n2043    [Lloyiso, NDLOVU RECORDS (PTY) LTD EMPIRE, Pop]     1293340   \n\n      like_count  comment_count  \n2039       56492           1894  \n2040     2235485         163859  \n2041       11031            735  \n2042       13513            737  \n2043       15379            785  ",
            "text/html": "<div>\n<style scoped>\n    .dataframe tbody tr th:only-of-type {\n        vertical-align: middle;\n    }\n\n    .dataframe tbody tr th {\n        vertical-align: top;\n    }\n\n    .dataframe thead th {\n        text-align: right;\n    }\n</style>\n<table border=\"1\" class=\"dataframe\">\n  <thead>\n    <tr style=\"text-align: right;\">\n      <th></th>\n      <th>country_code</th>\n      <th>country_name</th>\n      <th>region</th>\n      <th>video_id</th>\n      <th>title</th>\n      <th>description</th>\n      <th>channel_title</th>\n      <th>category_id</th>\n      <th>category_name</th>\n      <th>published_at</th>\n      <th>tags</th>\n      <th>view_count</th>\n      <th>like_count</th>\n      <th>comment_count</th>\n    </tr>\n  </thead>\n  <tbody>\n    <tr>\n      <th>2039</th>\n      <td>ZW</td>\n      <td>Zimbabwe</td>\n      <td>Southern Africa</td>\n      <td>YRA7DNy3kzk</td>\n      <td>NEMZZZ - 8PM [OFFICIAL VIDEO]</td>\n      <td>NEMZZZ - 8PM [OFFICIAL VIDEO]\\n\\n‘8PM’ OUT NOW...</td>\n      <td>Nemzzz</td>\n      <td>10</td>\n      <td>Music</td>\n      <td>2025-10-17T18:00:36Z</td>\n      <td>[nemz, nemzz, nemzzzz, nemz 8pm, nemzz 8pm, AP...</td>\n      <td>805094</td>\n      <td>56492</td>\n      <td>1894</td>\n    </tr>\n    <tr>\n      <th>2040</th>\n      <td>ZW</td>\n      <td>Zimbabwe</td>\n      <td>Southern Africa</td>\n      <td>EN1tMeXQii0</td>\n      <td>JISOO X ZAYN - EYES CLOSED (OFFICIAL MV)</td>\n      <td>JISOO X ZAYN - EYES CLOSED (OFFICIAL MV)\\n\\nFo...</td>\n      <td>JISOO</td>\n      <td>10</td>\n      <td>Music</td>\n      <td>2025-10-10T04:00:06Z</td>\n      <td>[YG Entertainment, YG, 와이지, K-po​p, BLACKPINK,...</td>\n      <td>47172408</td>\n      <td>2235485</td>\n      <td>163859</td>\n    </tr>\n    <tr>\n      <th>2041</th>\n      <td>ZW</td>\n      <td>Zimbabwe</td>\n      <td>Southern Africa</td>\n      <td>oS6nyaJUxes</td>\n      <td>Dj Tira &amp; Pcee ft Campmasters and General Cmam...</td>\n      <td>Brand new music by Dj Tira titled Awungazi.\\n\\...</td>\n      <td>Ezase Afro</td>\n      <td>10</td>\n      <td>Music</td>\n      <td>2025-10-09T22:00:06Z</td>\n      <td>[Afrotainment, Tira, Durban Music, Afro Music,...</td>\n      <td>646271</td>\n      <td>11031</td>\n      <td>735</td>\n    </tr>\n    <tr>\n      <th>2042</th>\n      <td>ZW</td>\n      <td>Zimbabwe</td>\n      <td>Southern Africa</td>\n      <td>DvQiyVkwY94</td>\n      <td>Msaki, Jesse Clegg, Sjava - Wayside Lover</td>\n      <td>Jesse Clegg, Msaki and Sjava's \"Wayside Lover\"...</td>\n      <td>MsakiVEVO</td>\n      <td>10</td>\n      <td>Music</td>\n      <td>2025-10-08T07:00:05Z</td>\n      <td>[Msaki, Jesse Clegg, Sjava, Platoon, Pop]</td>\n      <td>293964</td>\n      <td>13513</td>\n      <td>737</td>\n    </tr>\n    <tr>\n      <th>2043</th>\n      <td>ZW</td>\n      <td>Zimbabwe</td>\n      <td>Southern Africa</td>\n      <td>TEbZsMv2c0Q</td>\n      <td>Lloyiso - Scary (Official Video)</td>\n      <td>Lloyiso - Scary (Official Video) ♫ Out now: ht...</td>\n      <td>LloyisoVEVO</td>\n      <td>10</td>\n      <td>Music</td>\n      <td>2025-09-25T17:00:06Z</td>\n      <td>[Lloyiso, NDLOVU RECORDS (PTY) LTD EMPIRE, Pop]</td>\n      <td>1293340</td>\n      <td>15379</td>\n      <td>785</td>\n    </tr>\n  </tbody>\n</table>\n</div>"
          },
          "metadata": {}
        }
      ],
      "execution_count": null
    },
    {
      "cell_type": "code",
      "source": [
        "bigdata['category_name'].value_counts()"
      ],
      "metadata": {
        "trusted": true,
        "execution": {
          "iopub.status.busy": "2025-10-23T14:28:46.725208Z",
          "iopub.execute_input": "2025-10-23T14:28:46.725724Z",
          "iopub.status.idle": "2025-10-23T14:28:46.747478Z",
          "shell.execute_reply.started": "2025-10-23T14:28:46.725692Z",
          "shell.execute_reply": "2025-10-23T14:28:46.746665Z"
        },
        "id": "xXSV6gHBfVn6",
        "outputId": "ca6aa3c5-4616-435b-cf67-25ce21949f24"
      },
      "outputs": [
        {
          "execution_count": 164,
          "output_type": "execute_result",
          "data": {
            "text/plain": "category_name\nGaming                  809\nMusic                   775\nPeople & Blogs          149\nEntertainment           146\nSports                   80\nFilm & Animation         52\nComedy                    8\nEducation                 7\nUnknown                   6\nHowto & Style             5\nNews & Politics           3\nTravel & Events           2\nPets & Animals            1\nScience & Technology      1\nName: count, dtype: int64"
          },
          "metadata": {}
        }
      ],
      "execution_count": null
    },
    {
      "cell_type": "code",
      "source": [
        "# Initialize BigQuery client\n",
        "client = bigquery.Client(project='project-adrian-aluoch')"
      ],
      "metadata": {
        "trusted": true,
        "execution": {
          "iopub.status.busy": "2025-10-23T14:28:46.750603Z",
          "iopub.execute_input": "2025-10-23T14:28:46.750928Z",
          "iopub.status.idle": "2025-10-23T14:28:46.769704Z",
          "shell.execute_reply.started": "2025-10-23T14:28:46.750906Z",
          "shell.execute_reply": "2025-10-23T14:28:46.768592Z"
        },
        "id": "vzQURLB1fVn8"
      },
      "outputs": [],
      "execution_count": null
    },
    {
      "cell_type": "code",
      "source": [
        "bigdata['tags'] = bigdata['tags'].astype(str)"
      ],
      "metadata": {
        "trusted": true,
        "execution": {
          "iopub.status.busy": "2025-10-23T14:28:46.770474Z",
          "iopub.execute_input": "2025-10-23T14:28:46.770824Z",
          "iopub.status.idle": "2025-10-23T14:28:46.801003Z",
          "shell.execute_reply.started": "2025-10-23T14:28:46.770794Z",
          "shell.execute_reply": "2025-10-23T14:28:46.799884Z"
        },
        "id": "yGxF8gIBfVn9"
      },
      "outputs": [],
      "execution_count": null
    },
    {
      "cell_type": "code",
      "source": [
        "# Define Table ID\n",
        "table_id = 'project-adrian-aluoch.youtube_trends_ke.trends'\n",
        "\n",
        "# Export Data to BigQuery\n",
        "job = client.load_table_from_dataframe(bigdata, table_id)\n",
        "while job.state != 'DONE':\n",
        "    time.sleep(2)\n",
        "    job.reload()\n",
        "    print(job.state)"
      ],
      "metadata": {
        "trusted": true,
        "execution": {
          "iopub.status.busy": "2025-10-23T14:28:46.802081Z",
          "iopub.execute_input": "2025-10-23T14:28:46.802324Z",
          "iopub.status.idle": "2025-10-23T14:28:51.091813Z",
          "shell.execute_reply.started": "2025-10-23T14:28:46.802306Z",
          "shell.execute_reply": "2025-10-23T14:28:51.090897Z"
        },
        "id": "nHMiXlpDfVn-",
        "outputId": "ed50e114-dff5-4592-9bf8-1031ed9c88da"
      },
      "outputs": [
        {
          "name": "stdout",
          "text": "DONE\n",
          "output_type": "stream"
        }
      ],
      "execution_count": null
    },
    {
      "cell_type": "code",
      "source": [
        "# Define SQL Query to Retrieve Open Weather Data from Google Cloud BigQuery\n",
        "sql = (\n",
        "    'SELECT *'\n",
        "    'FROM `project-adrian-aluoch.youtube_trends_ke.trends`'\n",
        "    'ORDER BY country_code'\n",
        "      )\n",
        "\n",
        "# Run SQL Query\n",
        "data = client.query(sql).to_dataframe()"
      ],
      "metadata": {
        "trusted": true,
        "execution": {
          "iopub.status.busy": "2025-10-23T14:28:51.092915Z",
          "iopub.execute_input": "2025-10-23T14:28:51.093295Z",
          "iopub.status.idle": "2025-10-23T14:28:54.256696Z",
          "shell.execute_reply.started": "2025-10-23T14:28:51.093274Z",
          "shell.execute_reply": "2025-10-23T14:28:54.255783Z"
        },
        "id": "9LagR9Y4fVn_"
      },
      "outputs": [],
      "execution_count": null
    },
    {
      "cell_type": "code",
      "source": [
        "# Delete Original Table\n",
        "client.delete_table(table_id)\n",
        "print(f\"Table deleted successfully.\")\n",
        "\n",
        "# Remove Duplicate Records\n",
        "data.drop_duplicates(subset=[\"video_id\", \"country_code\", \"country_name\", \"region\"], inplace=True)"
      ],
      "metadata": {
        "trusted": true,
        "execution": {
          "iopub.status.busy": "2025-10-23T14:28:54.258118Z",
          "iopub.execute_input": "2025-10-23T14:28:54.258439Z",
          "iopub.status.idle": "2025-10-23T14:28:54.506161Z",
          "shell.execute_reply.started": "2025-10-23T14:28:54.258408Z",
          "shell.execute_reply": "2025-10-23T14:28:54.505249Z"
        },
        "id": "KiIgtybQfVoA",
        "outputId": "6d9f219d-f4d7-419e-f82c-09b4d8e19077"
      },
      "outputs": [
        {
          "name": "stdout",
          "text": "Table deleted successfully.\n",
          "output_type": "stream"
        }
      ],
      "execution_count": null
    },
    {
      "cell_type": "code",
      "source": [
        "data['tags'] = data['tags'].astype(str)"
      ],
      "metadata": {
        "trusted": true,
        "execution": {
          "iopub.status.busy": "2025-10-23T14:28:54.507209Z",
          "iopub.execute_input": "2025-10-23T14:28:54.507541Z",
          "iopub.status.idle": "2025-10-23T14:28:54.513249Z",
          "shell.execute_reply.started": "2025-10-23T14:28:54.507513Z",
          "shell.execute_reply": "2025-10-23T14:28:54.512286Z"
        },
        "id": "3B9HgfgOfVoB"
      },
      "outputs": [],
      "execution_count": null
    },
    {
      "cell_type": "code",
      "source": [
        "# Define the dataset ID and table ID\n",
        "dataset_id = 'youtube_trends_ke'\n",
        "table_id = 'trends'\n",
        "\n",
        "# Define the BigQuery schema for YouTube trending videos\n",
        "schema = [\n",
        "    bigquery.SchemaField(\"country_code\", \"STRING\"),\n",
        "    bigquery.SchemaField(\"country_name\", \"STRING\"),\n",
        "    bigquery.SchemaField(\"region\", \"STRING\"),\n",
        "    bigquery.SchemaField(\"video_id\", \"STRING\"),\n",
        "    bigquery.SchemaField(\"title\", \"STRING\"),\n",
        "    bigquery.SchemaField(\"description\", \"STRING\"),\n",
        "    bigquery.SchemaField(\"channel_title\", \"STRING\"),\n",
        "    bigquery.SchemaField(\"category_id\", \"STRING\"),\n",
        "    bigquery.SchemaField(\"category_name\", \"STRING\"),\n",
        "    bigquery.SchemaField(\"published_at\", \"STRING\"),\n",
        "    bigquery.SchemaField(\"tags\", \"STRING\"),  # optional: convert list to string before upload\n",
        "    bigquery.SchemaField(\"view_count\", \"INTEGER\"),\n",
        "    bigquery.SchemaField(\"like_count\", \"INTEGER\"),\n",
        "    bigquery.SchemaField(\"comment_count\", \"INTEGER\")\n",
        "]\n",
        "\n",
        "# Define the table reference\n",
        "table_ref = client.dataset(dataset_id).table(table_id)\n",
        "\n",
        "# Create the table object\n",
        "table = bigquery.Table(table_ref, schema=schema)\n",
        "\n",
        "try:\n",
        "    # Create the table in BigQuery\n",
        "    table = client.create_table(table)\n",
        "    print(f\"Table {table.table_id} created successfully.\")\n",
        "except Exception as e:\n",
        "    print(f\"Table {table.table_id} failed\")"
      ],
      "metadata": {
        "trusted": true,
        "execution": {
          "iopub.status.busy": "2025-10-23T14:28:54.514324Z",
          "iopub.execute_input": "2025-10-23T14:28:54.514616Z",
          "iopub.status.idle": "2025-10-23T14:28:54.813733Z",
          "shell.execute_reply.started": "2025-10-23T14:28:54.514595Z",
          "shell.execute_reply": "2025-10-23T14:28:54.812784Z"
        },
        "id": "mDbHPOUofVoB",
        "outputId": "a462cb7d-1c3b-4e54-e627-da1934a6924d"
      },
      "outputs": [
        {
          "name": "stdout",
          "text": "Table trends created successfully.\n",
          "output_type": "stream"
        }
      ],
      "execution_count": null
    },
    {
      "cell_type": "code",
      "source": [
        "# Define the BigQuery table ID\n",
        "table_id = 'project-adrian-aluoch.youtube_trends_ke.trends'\n",
        "\n",
        "# Load the data into the BigQuery table\n",
        "job = client.load_table_from_dataframe(data, table_id)\n",
        "\n",
        "# Wait for the job to complete\n",
        "while job.state != 'DONE':\n",
        "    time.sleep(2)\n",
        "    job.reload()\n",
        "    print(job.state)"
      ],
      "metadata": {
        "trusted": true,
        "execution": {
          "iopub.status.busy": "2025-10-23T14:28:54.814520Z",
          "iopub.execute_input": "2025-10-23T14:28:54.814805Z",
          "iopub.status.idle": "2025-10-23T14:28:58.649124Z",
          "shell.execute_reply.started": "2025-10-23T14:28:54.814785Z",
          "shell.execute_reply": "2025-10-23T14:28:58.647728Z"
        },
        "id": "Rq-QPkVrfVoC",
        "outputId": "b6e1dcc8-5bdc-4813-a3b9-b54bb7319584"
      },
      "outputs": [
        {
          "name": "stdout",
          "text": "DONE\n",
          "output_type": "stream"
        }
      ],
      "execution_count": null
    },
    {
      "cell_type": "code",
      "source": [
        "data"
      ],
      "metadata": {
        "trusted": true,
        "execution": {
          "iopub.status.busy": "2025-10-23T14:29:02.800050Z",
          "iopub.execute_input": "2025-10-23T14:29:02.800341Z",
          "iopub.status.idle": "2025-10-23T14:29:02.816710Z",
          "shell.execute_reply.started": "2025-10-23T14:29:02.800312Z",
          "shell.execute_reply": "2025-10-23T14:29:02.815737Z"
        },
        "id": "_3_3Rwj0fVoE",
        "outputId": "bbf2d927-b5eb-41ae-f76c-b3a2844fdbd7"
      },
      "outputs": [
        {
          "execution_count": 174,
          "output_type": "execute_result",
          "data": {
            "text/plain": "     country_code country_name           region     video_id  \\\n0              DZ      Algeria     North Africa  4sj1hMxhXAk   \n1              DZ      Algeria     North Africa  MZA0JWoq2zs   \n2              DZ      Algeria     North Africa  K0LpmWCV4D0   \n3              DZ      Algeria     North Africa  GyyH6XE1upI   \n4              DZ      Algeria     North Africa  n5SxjtU17_c   \n...           ...          ...              ...          ...   \n2039           ZW     Zimbabwe  Southern Africa  emFIjOXduCg   \n2040           ZW     Zimbabwe  Southern Africa  7bzdFQkHNwc   \n2041           ZW     Zimbabwe  Southern Africa  Vcp2UjxEt4Y   \n2042           ZW     Zimbabwe  Southern Africa  Z0Qg8FHPKHI   \n2043           ZW     Zimbabwe  Southern Africa  Q6cxQWdcu3Y   \n\n                                                  title  \\\n0     Didou Kalma 2025 • مـازال نـولي وتزهـالي ليــا...   \n1                   Tawsen - Khallini, (Official Video)   \n2     الفأر المجنون خطف اخوتي الصغار 🧸 مغامرة الدب ا...   \n3       السفر الطويل : ظهور الفضائيين و انا في ورطة ! 😱   \n4     ربلوكس فتحت كل الشخصيات السرية المحدودة ! Stea...   \n...                                                 ...   \n2039  Liverpool vs Manchester United | Premier Leagu...   \n2040                Hulengende - Zunza (Official Video)   \n2041  🔴Live : Chelsea vs Ajax I UEFA Champions Leagu...   \n2042           I Got My OWN BASE in Steal a Brainrot...   \n2043                  PAKATAI by Psalmist Lamondy Dube    \n\n                                            description  \\\n0     Bienvenue Dans La Chaine YouTube Officielle de...   \n1     Listen to Tawsen's new song \"Khallini,\" availa...   \n2     رابط الانتساب بالقناة 🥰\\nhttps://www.youtube.c...   \n3     جميع صفحاتي .. 🥰💌\\n\\nhttps://www.youtube.com/@...   \n4     رابط القروب https://www.roblox.com/share/g/687...   \n...                                                 ...   \n2039  Liverpool vs Manchester United Premier League ...   \n2040  As We continue dropping the visuals for KUFADZ...   \n2041  ✅✅✅ Facebook: https://www.facebook.com/MunnaVd...   \n2042  Instagram: https://www.instagram.com/cashmarco...   \n2043  #subscribe​\\n#gospelmusic​ \\n#trending​ \\nPsal...   \n\n                              channel_title category_id   category_name  \\\n0                                AMINE PROD          10           Music   \n1                                    Tawsen          10           Music   \n2                          Mysterious Gamer          20          Gaming   \n3     شبكة العاب العرب | Arab Games Network          20          Gaming   \n4                                اصحاب مازن          20          Gaming   \n...                                     ...         ...             ...   \n2039                                 Wavear          20          Gaming   \n2040                          Hulengende Zw          10           Music   \n2041                                  Munna          20          Gaming   \n2042                               CashBlox          24   Entertainment   \n2043         Psalmist Lamondy Dube official          22  People & Blogs   \n\n              published_at                                               tags  \\\n0     2025-10-18T15:30:06Z                                                 []   \n1     2025-10-22T15:00:06Z                                                 []   \n2     2025-10-22T10:30:28Z  ['مغامرة الدب الخارق', 'الدب الخارق', 'مغامرة ...   \n3     2025-10-22T11:00:36Z                                                 []   \n4     2025-10-22T17:05:01Z  ['roblox', 'روبلوكس', 'العاب', 'ماب البيوت', '...   \n...                    ...                                                ...   \n2039  2025-10-19T17:51:22Z                                                 []   \n2040  2025-10-18T10:05:19Z                                                 []   \n2041  2025-10-23T00:00:52Z  ['munna', 'football', 'soccer', 'football game...   \n2042  2025-10-05T11:00:57Z  ['Cash', 'Nico', 'Nico and Cash', 'Cash and Ni...   \n2043  2025-10-09T07:00:06Z                                                 []   \n\n      view_count  like_count  comment_count  \n0          68782        1957            160  \n1         328423        7878            120  \n2          70755        2448             88  \n3         136062        6947            511  \n4         261274        7137           1328  \n...          ...         ...            ...  \n2039      655839           0              2  \n2040       59291        3154            660  \n2041       81210         399              1  \n2042     3440741      133101           5296  \n2043      110886        2708            508  \n\n[2044 rows x 14 columns]",
            "text/html": "<div>\n<style scoped>\n    .dataframe tbody tr th:only-of-type {\n        vertical-align: middle;\n    }\n\n    .dataframe tbody tr th {\n        vertical-align: top;\n    }\n\n    .dataframe thead th {\n        text-align: right;\n    }\n</style>\n<table border=\"1\" class=\"dataframe\">\n  <thead>\n    <tr style=\"text-align: right;\">\n      <th></th>\n      <th>country_code</th>\n      <th>country_name</th>\n      <th>region</th>\n      <th>video_id</th>\n      <th>title</th>\n      <th>description</th>\n      <th>channel_title</th>\n      <th>category_id</th>\n      <th>category_name</th>\n      <th>published_at</th>\n      <th>tags</th>\n      <th>view_count</th>\n      <th>like_count</th>\n      <th>comment_count</th>\n    </tr>\n  </thead>\n  <tbody>\n    <tr>\n      <th>0</th>\n      <td>DZ</td>\n      <td>Algeria</td>\n      <td>North Africa</td>\n      <td>4sj1hMxhXAk</td>\n      <td>Didou Kalma 2025 • مـازال نـولي وتزهـالي ليــا...</td>\n      <td>Bienvenue Dans La Chaine YouTube Officielle de...</td>\n      <td>AMINE PROD</td>\n      <td>10</td>\n      <td>Music</td>\n      <td>2025-10-18T15:30:06Z</td>\n      <td>[]</td>\n      <td>68782</td>\n      <td>1957</td>\n      <td>160</td>\n    </tr>\n    <tr>\n      <th>1</th>\n      <td>DZ</td>\n      <td>Algeria</td>\n      <td>North Africa</td>\n      <td>MZA0JWoq2zs</td>\n      <td>Tawsen - Khallini, (Official Video)</td>\n      <td>Listen to Tawsen's new song \"Khallini,\" availa...</td>\n      <td>Tawsen</td>\n      <td>10</td>\n      <td>Music</td>\n      <td>2025-10-22T15:00:06Z</td>\n      <td>[]</td>\n      <td>328423</td>\n      <td>7878</td>\n      <td>120</td>\n    </tr>\n    <tr>\n      <th>2</th>\n      <td>DZ</td>\n      <td>Algeria</td>\n      <td>North Africa</td>\n      <td>K0LpmWCV4D0</td>\n      <td>الفأر المجنون خطف اخوتي الصغار 🧸 مغامرة الدب ا...</td>\n      <td>رابط الانتساب بالقناة 🥰\\nhttps://www.youtube.c...</td>\n      <td>Mysterious Gamer</td>\n      <td>20</td>\n      <td>Gaming</td>\n      <td>2025-10-22T10:30:28Z</td>\n      <td>['مغامرة الدب الخارق', 'الدب الخارق', 'مغامرة ...</td>\n      <td>70755</td>\n      <td>2448</td>\n      <td>88</td>\n    </tr>\n    <tr>\n      <th>3</th>\n      <td>DZ</td>\n      <td>Algeria</td>\n      <td>North Africa</td>\n      <td>GyyH6XE1upI</td>\n      <td>السفر الطويل : ظهور الفضائيين و انا في ورطة ! 😱</td>\n      <td>جميع صفحاتي .. 🥰💌\\n\\nhttps://www.youtube.com/@...</td>\n      <td>شبكة العاب العرب | Arab Games Network</td>\n      <td>20</td>\n      <td>Gaming</td>\n      <td>2025-10-22T11:00:36Z</td>\n      <td>[]</td>\n      <td>136062</td>\n      <td>6947</td>\n      <td>511</td>\n    </tr>\n    <tr>\n      <th>4</th>\n      <td>DZ</td>\n      <td>Algeria</td>\n      <td>North Africa</td>\n      <td>n5SxjtU17_c</td>\n      <td>ربلوكس فتحت كل الشخصيات السرية المحدودة ! Stea...</td>\n      <td>رابط القروب https://www.roblox.com/share/g/687...</td>\n      <td>اصحاب مازن</td>\n      <td>20</td>\n      <td>Gaming</td>\n      <td>2025-10-22T17:05:01Z</td>\n      <td>['roblox', 'روبلوكس', 'العاب', 'ماب البيوت', '...</td>\n      <td>261274</td>\n      <td>7137</td>\n      <td>1328</td>\n    </tr>\n    <tr>\n      <th>...</th>\n      <td>...</td>\n      <td>...</td>\n      <td>...</td>\n      <td>...</td>\n      <td>...</td>\n      <td>...</td>\n      <td>...</td>\n      <td>...</td>\n      <td>...</td>\n      <td>...</td>\n      <td>...</td>\n      <td>...</td>\n      <td>...</td>\n      <td>...</td>\n    </tr>\n    <tr>\n      <th>2039</th>\n      <td>ZW</td>\n      <td>Zimbabwe</td>\n      <td>Southern Africa</td>\n      <td>emFIjOXduCg</td>\n      <td>Liverpool vs Manchester United | Premier Leagu...</td>\n      <td>Liverpool vs Manchester United Premier League ...</td>\n      <td>Wavear</td>\n      <td>20</td>\n      <td>Gaming</td>\n      <td>2025-10-19T17:51:22Z</td>\n      <td>[]</td>\n      <td>655839</td>\n      <td>0</td>\n      <td>2</td>\n    </tr>\n    <tr>\n      <th>2040</th>\n      <td>ZW</td>\n      <td>Zimbabwe</td>\n      <td>Southern Africa</td>\n      <td>7bzdFQkHNwc</td>\n      <td>Hulengende - Zunza (Official Video)</td>\n      <td>As We continue dropping the visuals for KUFADZ...</td>\n      <td>Hulengende Zw</td>\n      <td>10</td>\n      <td>Music</td>\n      <td>2025-10-18T10:05:19Z</td>\n      <td>[]</td>\n      <td>59291</td>\n      <td>3154</td>\n      <td>660</td>\n    </tr>\n    <tr>\n      <th>2041</th>\n      <td>ZW</td>\n      <td>Zimbabwe</td>\n      <td>Southern Africa</td>\n      <td>Vcp2UjxEt4Y</td>\n      <td>🔴Live : Chelsea vs Ajax I UEFA Champions Leagu...</td>\n      <td>✅✅✅ Facebook: https://www.facebook.com/MunnaVd...</td>\n      <td>Munna</td>\n      <td>20</td>\n      <td>Gaming</td>\n      <td>2025-10-23T00:00:52Z</td>\n      <td>['munna', 'football', 'soccer', 'football game...</td>\n      <td>81210</td>\n      <td>399</td>\n      <td>1</td>\n    </tr>\n    <tr>\n      <th>2042</th>\n      <td>ZW</td>\n      <td>Zimbabwe</td>\n      <td>Southern Africa</td>\n      <td>Z0Qg8FHPKHI</td>\n      <td>I Got My OWN BASE in Steal a Brainrot...</td>\n      <td>Instagram: https://www.instagram.com/cashmarco...</td>\n      <td>CashBlox</td>\n      <td>24</td>\n      <td>Entertainment</td>\n      <td>2025-10-05T11:00:57Z</td>\n      <td>['Cash', 'Nico', 'Nico and Cash', 'Cash and Ni...</td>\n      <td>3440741</td>\n      <td>133101</td>\n      <td>5296</td>\n    </tr>\n    <tr>\n      <th>2043</th>\n      <td>ZW</td>\n      <td>Zimbabwe</td>\n      <td>Southern Africa</td>\n      <td>Q6cxQWdcu3Y</td>\n      <td>PAKATAI by Psalmist Lamondy Dube</td>\n      <td>#subscribe​\\n#gospelmusic​ \\n#trending​ \\nPsal...</td>\n      <td>Psalmist Lamondy Dube official</td>\n      <td>22</td>\n      <td>People &amp; Blogs</td>\n      <td>2025-10-09T07:00:06Z</td>\n      <td>[]</td>\n      <td>110886</td>\n      <td>2708</td>\n      <td>508</td>\n    </tr>\n  </tbody>\n</table>\n<p>2044 rows × 14 columns</p>\n</div>"
          },
          "metadata": {}
        }
      ],
      "execution_count": null
    }
  ]
}