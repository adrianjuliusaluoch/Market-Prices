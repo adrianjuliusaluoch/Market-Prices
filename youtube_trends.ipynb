{
  "metadata": {
    "kernelspec": {
      "language": "python",
      "display_name": "Python 3",
      "name": "python3"
    },
    "language_info": {
      "name": "python",
      "version": "3.11.13",
      "mimetype": "text/x-python",
      "codemirror_mode": {
        "name": "ipython",
        "version": 3
      },
      "pygments_lexer": "ipython3",
      "nbconvert_exporter": "python",
      "file_extension": ".py"
    },
    "kaggle": {
      "accelerator": "none",
      "dataSources": [],
      "dockerImageVersionId": 31153,
      "isInternetEnabled": true,
      "language": "python",
      "sourceType": "notebook",
      "isGpuEnabled": false
    },
    "colab": {
      "provenance": []
    }
  },
  "nbformat_minor": 0,
  "nbformat": 4,
  "cells": [
    {
      "cell_type": "code",
      "source": [
        "# Install Packages\n",
        "!pip install google-api-python-client google-cloud-bigquery-storage pycountry"
      ],
      "metadata": {
        "_uuid": "8f2839f25d086af736a60e9eeb907d3b93b6e0e5",
        "_cell_guid": "b1076dfc-b9ad-4769-8c92-a6c4dae69d19",
        "trusted": true,
        "execution": {
          "iopub.status.busy": "2025-10-17T06:58:55.644535Z",
          "iopub.execute_input": "2025-10-17T06:58:55.644855Z",
          "iopub.status.idle": "2025-10-17T06:58:59.602705Z",
          "shell.execute_reply.started": "2025-10-17T06:58:55.644830Z",
          "shell.execute_reply": "2025-10-17T06:58:59.601572Z"
        },
        "id": "ofYWSxhY-aqb",
        "outputId": "b063255f-dcec-400b-8a3e-dd411eb2ecba"
      },
      "outputs": [
        {
          "name": "stdout",
          "text": "Requirement already satisfied: google-api-python-client in /usr/local/lib/python3.11/dist-packages (2.177.0)\nRequirement already satisfied: google-cloud-bigquery-storage in /usr/local/lib/python3.11/dist-packages (2.33.1)\nRequirement already satisfied: httplib2<1.0.0,>=0.19.0 in /usr/local/lib/python3.11/dist-packages (from google-api-python-client) (0.22.0)\nRequirement already satisfied: google-auth!=2.24.0,!=2.25.0,<3.0.0,>=1.32.0 in /usr/local/lib/python3.11/dist-packages (from google-api-python-client) (2.40.3)\nRequirement already satisfied: google-auth-httplib2<1.0.0,>=0.2.0 in /usr/local/lib/python3.11/dist-packages (from google-api-python-client) (0.2.0)\nRequirement already satisfied: google-api-core!=2.0.*,!=2.1.*,!=2.2.*,!=2.3.0,<3.0.0,>=1.31.5 in /usr/local/lib/python3.11/dist-packages (from google-api-python-client) (1.34.1)\nRequirement already satisfied: uritemplate<5,>=3.0.1 in /usr/local/lib/python3.11/dist-packages (from google-api-python-client) (4.2.0)\nRequirement already satisfied: proto-plus<2.0.0,>=1.22.3 in /usr/local/lib/python3.11/dist-packages (from google-cloud-bigquery-storage) (1.26.1)\nRequirement already satisfied: protobuf!=4.21.0,!=4.21.1,!=4.21.2,!=4.21.3,!=4.21.4,!=4.21.5,<7.0.0,>=3.20.2 in /usr/local/lib/python3.11/dist-packages (from google-cloud-bigquery-storage) (3.20.3)\nRequirement already satisfied: googleapis-common-protos<2.0dev,>=1.56.2 in /usr/local/lib/python3.11/dist-packages (from google-api-core!=2.0.*,!=2.1.*,!=2.2.*,!=2.3.0,<3.0.0,>=1.31.5->google-api-python-client) (1.70.0)\nRequirement already satisfied: requests<3.0.0dev,>=2.18.0 in /usr/local/lib/python3.11/dist-packages (from google-api-core!=2.0.*,!=2.1.*,!=2.2.*,!=2.3.0,<3.0.0,>=1.31.5->google-api-python-client) (2.32.5)\nRequirement already satisfied: grpcio<2.0dev,>=1.33.2 in /usr/local/lib/python3.11/dist-packages (from google-api-core[grpc]!=2.0.*,!=2.1.*,!=2.10.*,!=2.2.*,!=2.3.*,!=2.4.*,!=2.5.*,!=2.6.*,!=2.7.*,!=2.8.*,!=2.9.*,<3.0.0,>=1.34.1->google-cloud-bigquery-storage) (1.75.1)\nRequirement already satisfied: grpcio-status<2.0dev,>=1.33.2 in /usr/local/lib/python3.11/dist-packages (from google-api-core[grpc]!=2.0.*,!=2.1.*,!=2.10.*,!=2.2.*,!=2.3.*,!=2.4.*,!=2.5.*,!=2.6.*,!=2.7.*,!=2.8.*,!=2.9.*,<3.0.0,>=1.34.1->google-cloud-bigquery-storage) (1.49.0rc1)\nRequirement already satisfied: cachetools<6.0,>=2.0.0 in /usr/local/lib/python3.11/dist-packages (from google-auth!=2.24.0,!=2.25.0,<3.0.0,>=1.32.0->google-api-python-client) (5.5.2)\nRequirement already satisfied: pyasn1-modules>=0.2.1 in /usr/local/lib/python3.11/dist-packages (from google-auth!=2.24.0,!=2.25.0,<3.0.0,>=1.32.0->google-api-python-client) (0.4.2)\nRequirement already satisfied: rsa<5,>=3.1.4 in /usr/local/lib/python3.11/dist-packages (from google-auth!=2.24.0,!=2.25.0,<3.0.0,>=1.32.0->google-api-python-client) (4.9.1)\nRequirement already satisfied: pyparsing!=3.0.0,!=3.0.1,!=3.0.2,!=3.0.3,<4,>=2.4.2 in /usr/local/lib/python3.11/dist-packages (from httplib2<1.0.0,>=0.19.0->google-api-python-client) (3.0.9)\nRequirement already satisfied: typing-extensions~=4.12 in /usr/local/lib/python3.11/dist-packages (from grpcio<2.0dev,>=1.33.2->google-api-core[grpc]!=2.0.*,!=2.1.*,!=2.10.*,!=2.2.*,!=2.3.*,!=2.4.*,!=2.5.*,!=2.6.*,!=2.7.*,!=2.8.*,!=2.9.*,<3.0.0,>=1.34.1->google-cloud-bigquery-storage) (4.15.0)\nRequirement already satisfied: pyasn1<0.7.0,>=0.6.1 in /usr/local/lib/python3.11/dist-packages (from pyasn1-modules>=0.2.1->google-auth!=2.24.0,!=2.25.0,<3.0.0,>=1.32.0->google-api-python-client) (0.6.1)\nRequirement already satisfied: charset_normalizer<4,>=2 in /usr/local/lib/python3.11/dist-packages (from requests<3.0.0dev,>=2.18.0->google-api-core!=2.0.*,!=2.1.*,!=2.2.*,!=2.3.0,<3.0.0,>=1.31.5->google-api-python-client) (3.4.3)\nRequirement already satisfied: idna<4,>=2.5 in /usr/local/lib/python3.11/dist-packages (from requests<3.0.0dev,>=2.18.0->google-api-core!=2.0.*,!=2.1.*,!=2.2.*,!=2.3.0,<3.0.0,>=1.31.5->google-api-python-client) (3.10)\nRequirement already satisfied: urllib3<3,>=1.21.1 in /usr/local/lib/python3.11/dist-packages (from requests<3.0.0dev,>=2.18.0->google-api-core!=2.0.*,!=2.1.*,!=2.2.*,!=2.3.0,<3.0.0,>=1.31.5->google-api-python-client) (2.5.0)\nRequirement already satisfied: certifi>=2017.4.17 in /usr/local/lib/python3.11/dist-packages (from requests<3.0.0dev,>=2.18.0->google-api-core!=2.0.*,!=2.1.*,!=2.2.*,!=2.3.0,<3.0.0,>=1.31.5->google-api-python-client) (2025.8.3)\n",
          "output_type": "stream"
        }
      ],
      "execution_count": null
    },
    {
      "cell_type": "code",
      "source": [
        "# --- 1. SETUP AND AUTHENTICATION ---\n",
        "\n",
        "from googleapiclient.discovery import build\n",
        "from google.cloud import bigquery\n",
        "from datetime import datetime\n",
        "import pandas as pd\n",
        "import pycountry\n",
        "import time\n",
        "import os\n",
        "\n",
        "# Initialize the YouTube Data API client\n",
        "youtube = build(\"youtube\", \"v3\", developerKey=os.getenv(\"YOUTUBE_API_KEY\"))\n",
        "\n",
        "print(\"✅ YouTube client initialized successfully\")"
      ],
      "metadata": {
        "trusted": true,
        "execution": {
          "iopub.status.busy": "2025-10-17T06:58:59.604587Z",
          "iopub.execute_input": "2025-10-17T06:58:59.604876Z",
          "iopub.status.idle": "2025-10-17T06:58:59.618703Z",
          "shell.execute_reply.started": "2025-10-17T06:58:59.604852Z",
          "shell.execute_reply": "2025-10-17T06:58:59.617805Z"
        },
        "id": "EwckV_zD-aqk",
        "outputId": "0fc6ce32-2dca-45e6-b6d1-d13affa36ce7"
      },
      "outputs": [
        {
          "name": "stdout",
          "text": "✅ YouTube client initialized successfully\n",
          "output_type": "stream"
        }
      ],
      "execution_count": null
    },
    {
      "cell_type": "code",
      "source": [
        "# --- 2. DEFINE REQUEST PARAMETERS ---\n",
        "\n",
        "# --- Define African regions with all 54 countries ---\n",
        "regions = {\n",
        "    \"East Africa\": [\"KE\", \"UG\", \"TZ\", \"RW\", \"BI\", \"ET\", \"SO\", \"DJ\", \"ER\", \"SC\", \"MG\", \"MU\"],\n",
        "    \"West Africa\": [\"NG\", \"GH\", \"CI\", \"SN\", \"TG\", \"SL\", \"LR\", \"GM\", \"BF\", \"BJ\", \"NE\", \"ML\", \"GN\", \"GW\", \"CV\"],\n",
        "    \"North Africa\": [\"EG\", \"DZ\", \"MA\", \"TN\", \"LY\", \"SD\"],\n",
        "    \"Southern Africa\": [\"ZA\", \"NA\", \"BW\", \"MZ\", \"ZW\", \"ZM\", \"LS\", \"SZ\", \"AO\", \"MW\"],\n",
        "    \"Central Africa\": [\"CM\", \"CD\", \"CG\", \"GA\", \"GQ\", \"CF\", \"TD\", \"ST\"]\n",
        "}\n",
        "\n",
        "# The API returns results in pages; this keeps track of which page to fetch next\n",
        "next_page_token = None"
      ],
      "metadata": {
        "trusted": true,
        "execution": {
          "iopub.status.busy": "2025-10-17T06:58:59.619664Z",
          "iopub.execute_input": "2025-10-17T06:58:59.620030Z",
          "iopub.status.idle": "2025-10-17T06:58:59.631398Z",
          "shell.execute_reply.started": "2025-10-17T06:58:59.620003Z",
          "shell.execute_reply": "2025-10-17T06:58:59.630422Z"
        },
        "id": "gEuZM5RQ-aqn"
      },
      "outputs": [],
      "execution_count": null
    },
    {
      "cell_type": "code",
      "source": [
        "# --- Initialize ---\n",
        "videos = []\n",
        "\n",
        "for region, countries in regions.items():\n",
        "    print(f\"Collecting data for {region} ✅\")\n",
        "\n",
        "    for country in countries:\n",
        "        # --- Get full country name ---\n",
        "        try:\n",
        "            country_name = pycountry.countries.get(alpha_2=country).name\n",
        "        except:\n",
        "            country_name = \"Unknown\"\n",
        "\n",
        "        try:\n",
        "            next_page_token = None\n",
        "            while True:\n",
        "                request = youtube.videos().list(\n",
        "                    part=\"snippet,statistics\",\n",
        "                    chart=\"mostPopular\",\n",
        "                    regionCode=country,\n",
        "                    maxResults=50,\n",
        "                    pageToken=next_page_token\n",
        "                )\n",
        "\n",
        "                response = request.execute()\n",
        "\n",
        "                # --- Create a category map ---\n",
        "                category_response = youtube.videoCategories().list(\n",
        "                    part=\"snippet\",\n",
        "                    regionCode=REGION_CODE\n",
        "                ).execute()\n",
        "\n",
        "                category_map = {item[\"id\"]: item[\"snippet\"][\"title\"] for item in category_response.get(\"items\", [])}\n",
        "\n",
        "                for item in response.get(\"items\", []):\n",
        "                    snippet = item.get(\"snippet\", {})\n",
        "                    stats = item.get(\"statistics\", {})\n",
        "\n",
        "                    # Get category info\n",
        "                    category_id = snippet.get(\"categoryId\")\n",
        "                    category_name = category_map.get(category_id, \"Unknown\")\n",
        "\n",
        "                    videos.append({\n",
        "                        \"country_code\": country,\n",
        "                        \"country_name\": country_name,  # ✅ added country name\n",
        "                        \"region\": region,\n",
        "                        \"video_id\": item.get(\"id\"),\n",
        "                        \"title\": snippet.get(\"title\"),\n",
        "                        \"description\": snippet.get(\"description\"),\n",
        "                        \"channel_title\": snippet.get(\"channelTitle\"),\n",
        "                        \"category_id\": category_id,\n",
        "                        \"category_name\": category_name,  # ✅ new field\n",
        "                        \"published_at\": snippet.get(\"publishedAt\"),\n",
        "                        \"tags\": snippet.get(\"tags\", []),\n",
        "                        \"view_count\": int(stats.get(\"viewCount\", 0)),\n",
        "                        \"like_count\": int(stats.get(\"likeCount\", 0)),\n",
        "                        \"comment_count\": int(stats.get(\"commentCount\", 0))\n",
        "                    })\n",
        "\n",
        "                next_page_token = response.get(\"nextPageToken\")\n",
        "                if not next_page_token:\n",
        "                    break\n",
        "\n",
        "        except Exception as e:\n",
        "            # print(f\"  ⚠️ Skipping {country} — Not supported or error occurred: {e}\")\n",
        "            continue\n",
        "\n",
        "print(f\"Total videos retrieved across Africa: {len(videos)} ✅\")"
      ],
      "metadata": {
        "trusted": true,
        "execution": {
          "iopub.status.busy": "2025-10-17T06:58:59.633706Z",
          "iopub.execute_input": "2025-10-17T06:58:59.634529Z",
          "iopub.status.idle": "2025-10-17T06:58:59.942370Z",
          "shell.execute_reply.started": "2025-10-17T06:58:59.634502Z",
          "shell.execute_reply": "2025-10-17T06:58:59.941405Z"
        },
        "id": "gZIk3y5_-aqp",
        "outputId": "d4b38ed0-cfd5-4676-f5f3-3fd4f592b916"
      },
      "outputs": [
        {
          "name": "stdout",
          "text": "✅ Total videos retrieved: 200\n",
          "output_type": "stream"
        }
      ],
      "execution_count": null
    },
    {
      "cell_type": "code",
      "source": [
        "# Convert to DataFrame\n",
        "bigdata = pd.DataFrame(videos)\n",
        "bigdata.drop_duplicates(subset=[\"video_id\", \"country_code\", \"country_name\", \"region\"], keep=\"first\", inplace=True)\n",
        "bigdata = bigdata.reset_index(drop=True)"
      ],
      "metadata": {
        "trusted": true,
        "execution": {
          "iopub.status.busy": "2025-10-17T06:58:59.943186Z",
          "iopub.execute_input": "2025-10-17T06:58:59.943442Z",
          "iopub.status.idle": "2025-10-17T06:58:59.951051Z",
          "shell.execute_reply.started": "2025-10-17T06:58:59.943423Z",
          "shell.execute_reply": "2025-10-17T06:58:59.950218Z"
        },
        "id": "3PZKjFmP-aqr"
      },
      "outputs": [],
      "execution_count": null
    },
    {
      "cell_type": "code",
      "source": [
        "bigdata.info()"
      ],
      "metadata": {
        "trusted": true,
        "execution": {
          "iopub.status.busy": "2025-10-17T06:58:59.951854Z",
          "iopub.execute_input": "2025-10-17T06:58:59.952129Z",
          "iopub.status.idle": "2025-10-17T06:58:59.973048Z",
          "shell.execute_reply.started": "2025-10-17T06:58:59.952110Z",
          "shell.execute_reply": "2025-10-17T06:58:59.972237Z"
        },
        "id": "sQi4ZmPS-aqs",
        "outputId": "5a66b965-accf-4b43-eb67-1c9a5d90e600"
      },
      "outputs": [
        {
          "name": "stdout",
          "text": "<class 'pandas.core.frame.DataFrame'>\nRangeIndex: 200 entries, 0 to 199\nData columns (total 11 columns):\n #   Column         Non-Null Count  Dtype \n---  ------         --------------  ----- \n 0   video_id       200 non-null    object\n 1   title          200 non-null    object\n 2   description    200 non-null    object\n 3   channel_title  200 non-null    object\n 4   category_id    200 non-null    object\n 5   category_name  200 non-null    object\n 6   published_at   200 non-null    object\n 7   tags           200 non-null    object\n 8   view_count     200 non-null    int64 \n 9   like_count     200 non-null    int64 \n 10  comment_count  200 non-null    int64 \ndtypes: int64(3), object(8)\nmemory usage: 17.3+ KB\n",
          "output_type": "stream"
        }
      ],
      "execution_count": null
    },
    {
      "cell_type": "code",
      "source": [
        "bigdata"
      ],
      "metadata": {
        "trusted": true,
        "execution": {
          "iopub.status.busy": "2025-10-17T06:58:59.974146Z",
          "iopub.execute_input": "2025-10-17T06:58:59.974974Z",
          "iopub.status.idle": "2025-10-17T06:59:00.001697Z",
          "shell.execute_reply.started": "2025-10-17T06:58:59.974941Z",
          "shell.execute_reply": "2025-10-17T06:59:00.000739Z"
        },
        "id": "AFYapppB-aqu",
        "outputId": "4feb5445-4dab-4a8f-cb72-da7f4962b2c8"
      },
      "outputs": [
        {
          "execution_count": 40,
          "output_type": "execute_result",
          "data": {
            "text/plain": "        video_id                                              title  \\\n0    ws9CaAY6oww  BAHATI - BYE BYE BABA (Raila Odinga Tribute Song)   \n1    tWi6Hp0ValI             TWIST OF JUSTICE ( Official Trailer )    \n2    Gn7k2rDy7yo          Why Did Mikey family Leave the Village !?   \n3    VrSC_SBgPf4    PRINCE INDAH - TRIBUTE TO RT. HON RAILA ODINGA    \n4    R4wiXj9NmEE  Send Help | Official Trailer | In Theaters Jan 30   \n..           ...                                                ...   \n195  RjtIm83MQdk                    Masicka - Keys (Official Video)   \n196  WFha8pWTNac             Adopted by 67 KID FAMILY in Minecraft!   \n197  PtU5SVopt4g  LALA SALAMA BABA RAILA AMOLO ODINGA BY KINYAMB...   \n198  FOufoMTfZdI             Plants Vs Brainrots, But It's MODDED..   \n199  z2BbaLi_GW0                     Inama (feat. Diamond Platnumz)   \n\n                                           description         channel_title  \\\n0    #bahati #bahatikenya #byebyebaba #tribute #rai...          Bahati Kenya   \n1                                                                 KADUSKO Tv   \n2    Today, Mikey's family has suddenly left! But w...                Maizen   \n3    Artist : Prince Indah\\nTitle : Tribute To Rt. ...     Prince Indah, OGW   \n4    Rachel McAdams. Dylan O’Brien. SEND HELP.\\n\\nD...  20th Century Studios   \n..                                                 ...                   ...   \n195  Stream/Download: https://masicka.lnk.to/Keys\\n...               Masicka   \n196  Drift is saved by the 67 KID FAMILY in Minecra...                 Drift   \n197             #princeindah #odongoswagg #railaodinga    Kinyambu Boys Band   \n198  Today we played modded plants vs brainrots in ...           FoltynPlays   \n199  Provided to YouTube by Warner Music Africa\\n\\n...       Release - Topic   \n\n    category_id     category_name          published_at  \\\n0            10             Music  2025-10-16T07:00:07Z   \n1            23            Comedy  2025-10-04T07:00:11Z   \n2            20            Gaming  2025-10-11T11:00:24Z   \n3            10             Music  2025-10-16T03:31:00Z   \n4             1  Film & Animation  2025-10-14T16:00:36Z   \n..          ...               ...                   ...   \n195          10             Music  2025-10-10T16:00:07Z   \n196          20            Gaming  2025-10-05T02:00:35Z   \n197          10             Music  2025-10-16T20:13:43Z   \n198          20            Gaming  2025-10-10T19:12:59Z   \n199          10             Music  2025-09-18T20:40:59Z   \n\n                                                  tags  view_count  \\\n0    [Bahati, Bahati kenya, kenya, baba, bye bye ba...      736076   \n1                        [KADUSKO Tv, KADUSKO, Comedy]      114836   \n2                                  [Minecraft, Maizen]     2108367   \n3    [Prince Indah, Tribute To Raila Odinga, Raila,...      389082   \n4                                            [Trailer]     2586229   \n..                                                 ...         ...   \n195  [Masicka, Dancehall, Jamaica, Jamaican, Danceh...      515276   \n196  [drift, minecraft, minecraft mod, Playing As R...     1175536   \n197                                                 []        1667   \n198  [Foltyn, foltynplays, roblox, roblox gaming, f...      754095   \n199  [Zuchu, Diamond Platnumz, Inama (feat. Diamond...      296509   \n\n     like_count  comment_count  \n0         58828           5071  \n1           677             57  \n2         11719            809  \n3         27398           3350  \n4         51760           3662  \n..          ...            ...  \n195       25061           2173  \n196       20315           5237  \n197         333             44  \n198       13552            984  \n199        2584              0  \n\n[200 rows x 11 columns]",
            "text/html": "<div>\n<style scoped>\n    .dataframe tbody tr th:only-of-type {\n        vertical-align: middle;\n    }\n\n    .dataframe tbody tr th {\n        vertical-align: top;\n    }\n\n    .dataframe thead th {\n        text-align: right;\n    }\n</style>\n<table border=\"1\" class=\"dataframe\">\n  <thead>\n    <tr style=\"text-align: right;\">\n      <th></th>\n      <th>video_id</th>\n      <th>title</th>\n      <th>description</th>\n      <th>channel_title</th>\n      <th>category_id</th>\n      <th>category_name</th>\n      <th>published_at</th>\n      <th>tags</th>\n      <th>view_count</th>\n      <th>like_count</th>\n      <th>comment_count</th>\n    </tr>\n  </thead>\n  <tbody>\n    <tr>\n      <th>0</th>\n      <td>ws9CaAY6oww</td>\n      <td>BAHATI - BYE BYE BABA (Raila Odinga Tribute Song)</td>\n      <td>#bahati #bahatikenya #byebyebaba #tribute #rai...</td>\n      <td>Bahati Kenya</td>\n      <td>10</td>\n      <td>Music</td>\n      <td>2025-10-16T07:00:07Z</td>\n      <td>[Bahati, Bahati kenya, kenya, baba, bye bye ba...</td>\n      <td>736076</td>\n      <td>58828</td>\n      <td>5071</td>\n    </tr>\n    <tr>\n      <th>1</th>\n      <td>tWi6Hp0ValI</td>\n      <td>TWIST OF JUSTICE ( Official Trailer )</td>\n      <td></td>\n      <td>KADUSKO Tv</td>\n      <td>23</td>\n      <td>Comedy</td>\n      <td>2025-10-04T07:00:11Z</td>\n      <td>[KADUSKO Tv, KADUSKO, Comedy]</td>\n      <td>114836</td>\n      <td>677</td>\n      <td>57</td>\n    </tr>\n    <tr>\n      <th>2</th>\n      <td>Gn7k2rDy7yo</td>\n      <td>Why Did Mikey family Leave the Village !?</td>\n      <td>Today, Mikey's family has suddenly left! But w...</td>\n      <td>Maizen</td>\n      <td>20</td>\n      <td>Gaming</td>\n      <td>2025-10-11T11:00:24Z</td>\n      <td>[Minecraft, Maizen]</td>\n      <td>2108367</td>\n      <td>11719</td>\n      <td>809</td>\n    </tr>\n    <tr>\n      <th>3</th>\n      <td>VrSC_SBgPf4</td>\n      <td>PRINCE INDAH - TRIBUTE TO RT. HON RAILA ODINGA</td>\n      <td>Artist : Prince Indah\\nTitle : Tribute To Rt. ...</td>\n      <td>Prince Indah, OGW</td>\n      <td>10</td>\n      <td>Music</td>\n      <td>2025-10-16T03:31:00Z</td>\n      <td>[Prince Indah, Tribute To Raila Odinga, Raila,...</td>\n      <td>389082</td>\n      <td>27398</td>\n      <td>3350</td>\n    </tr>\n    <tr>\n      <th>4</th>\n      <td>R4wiXj9NmEE</td>\n      <td>Send Help | Official Trailer | In Theaters Jan 30</td>\n      <td>Rachel McAdams. Dylan O’Brien. SEND HELP.\\n\\nD...</td>\n      <td>20th Century Studios</td>\n      <td>1</td>\n      <td>Film &amp; Animation</td>\n      <td>2025-10-14T16:00:36Z</td>\n      <td>[Trailer]</td>\n      <td>2586229</td>\n      <td>51760</td>\n      <td>3662</td>\n    </tr>\n    <tr>\n      <th>...</th>\n      <td>...</td>\n      <td>...</td>\n      <td>...</td>\n      <td>...</td>\n      <td>...</td>\n      <td>...</td>\n      <td>...</td>\n      <td>...</td>\n      <td>...</td>\n      <td>...</td>\n      <td>...</td>\n    </tr>\n    <tr>\n      <th>195</th>\n      <td>RjtIm83MQdk</td>\n      <td>Masicka - Keys (Official Video)</td>\n      <td>Stream/Download: https://masicka.lnk.to/Keys\\n...</td>\n      <td>Masicka</td>\n      <td>10</td>\n      <td>Music</td>\n      <td>2025-10-10T16:00:07Z</td>\n      <td>[Masicka, Dancehall, Jamaica, Jamaican, Danceh...</td>\n      <td>515276</td>\n      <td>25061</td>\n      <td>2173</td>\n    </tr>\n    <tr>\n      <th>196</th>\n      <td>WFha8pWTNac</td>\n      <td>Adopted by 67 KID FAMILY in Minecraft!</td>\n      <td>Drift is saved by the 67 KID FAMILY in Minecra...</td>\n      <td>Drift</td>\n      <td>20</td>\n      <td>Gaming</td>\n      <td>2025-10-05T02:00:35Z</td>\n      <td>[drift, minecraft, minecraft mod, Playing As R...</td>\n      <td>1175536</td>\n      <td>20315</td>\n      <td>5237</td>\n    </tr>\n    <tr>\n      <th>197</th>\n      <td>PtU5SVopt4g</td>\n      <td>LALA SALAMA BABA RAILA AMOLO ODINGA BY KINYAMB...</td>\n      <td>#princeindah #odongoswagg #railaodinga</td>\n      <td>Kinyambu Boys Band</td>\n      <td>10</td>\n      <td>Music</td>\n      <td>2025-10-16T20:13:43Z</td>\n      <td>[]</td>\n      <td>1667</td>\n      <td>333</td>\n      <td>44</td>\n    </tr>\n    <tr>\n      <th>198</th>\n      <td>FOufoMTfZdI</td>\n      <td>Plants Vs Brainrots, But It's MODDED..</td>\n      <td>Today we played modded plants vs brainrots in ...</td>\n      <td>FoltynPlays</td>\n      <td>20</td>\n      <td>Gaming</td>\n      <td>2025-10-10T19:12:59Z</td>\n      <td>[Foltyn, foltynplays, roblox, roblox gaming, f...</td>\n      <td>754095</td>\n      <td>13552</td>\n      <td>984</td>\n    </tr>\n    <tr>\n      <th>199</th>\n      <td>z2BbaLi_GW0</td>\n      <td>Inama (feat. Diamond Platnumz)</td>\n      <td>Provided to YouTube by Warner Music Africa\\n\\n...</td>\n      <td>Release - Topic</td>\n      <td>10</td>\n      <td>Music</td>\n      <td>2025-09-18T20:40:59Z</td>\n      <td>[Zuchu, Diamond Platnumz, Inama (feat. Diamond...</td>\n      <td>296509</td>\n      <td>2584</td>\n      <td>0</td>\n    </tr>\n  </tbody>\n</table>\n<p>200 rows × 11 columns</p>\n</div>"
          },
          "metadata": {}
        }
      ],
      "execution_count": null
    },
    {
      "cell_type": "code",
      "source": [
        "bigdata['category_name'].value_counts()"
      ],
      "metadata": {
        "trusted": true,
        "execution": {
          "iopub.status.busy": "2025-10-17T06:59:00.002694Z",
          "iopub.execute_input": "2025-10-17T06:59:00.003028Z",
          "iopub.status.idle": "2025-10-17T06:59:00.018462Z",
          "shell.execute_reply.started": "2025-10-17T06:59:00.002999Z",
          "shell.execute_reply": "2025-10-17T06:59:00.017451Z"
        },
        "id": "gYtEa30V-aqw",
        "outputId": "0e86a70b-3bc8-4485-e822-07c4f06afe80"
      },
      "outputs": [
        {
          "execution_count": 41,
          "output_type": "execute_result",
          "data": {
            "text/plain": "category_name\nMusic               86\nGaming              80\nEntertainment       15\nPeople & Blogs       7\nFilm & Animation     3\nSports               3\nComedy               2\nEducation            2\nUnknown              2\nName: count, dtype: int64"
          },
          "metadata": {}
        }
      ],
      "execution_count": null
    },
    {
      "cell_type": "code",
      "source": [
        "# Initialize BigQuery client\n",
        "client = bigquery.Client(project='project-adrian-aluoch')"
      ],
      "metadata": {
        "trusted": true,
        "execution": {
          "iopub.status.busy": "2025-10-17T06:59:00.019484Z",
          "iopub.execute_input": "2025-10-17T06:59:00.019805Z",
          "iopub.status.idle": "2025-10-17T06:59:00.036724Z",
          "shell.execute_reply.started": "2025-10-17T06:59:00.019778Z",
          "shell.execute_reply": "2025-10-17T06:59:00.035652Z"
        },
        "id": "1_zaqNLX-aqy"
      },
      "outputs": [],
      "execution_count": null
    },
    {
      "cell_type": "code",
      "source": [
        "bigdata['tags'] = bigdata['tags'].astype(str)"
      ],
      "metadata": {
        "trusted": true,
        "execution": {
          "iopub.status.busy": "2025-10-17T06:59:00.039924Z",
          "iopub.execute_input": "2025-10-17T06:59:00.040295Z",
          "iopub.status.idle": "2025-10-17T06:59:00.055122Z",
          "shell.execute_reply.started": "2025-10-17T06:59:00.040271Z",
          "shell.execute_reply": "2025-10-17T06:59:00.054223Z"
        },
        "id": "fG5lfeKb-aq0"
      },
      "outputs": [],
      "execution_count": null
    },
    {
      "cell_type": "code",
      "source": [
        "# Define Table ID\n",
        "table_id = 'project-adrian-aluoch.youtube_trends_ke.trends'\n",
        "\n",
        "# Export Data to BigQuery\n",
        "job = client.load_table_from_dataframe(bigdata, table_id)\n",
        "while job.state != 'DONE':\n",
        "    time.sleep(2)\n",
        "    job.reload()\n",
        "    print(job.state)"
      ],
      "metadata": {
        "trusted": true,
        "execution": {
          "iopub.status.busy": "2025-10-17T06:59:00.056014Z",
          "iopub.execute_input": "2025-10-17T06:59:00.056321Z",
          "iopub.status.idle": "2025-10-17T06:59:04.071274Z",
          "shell.execute_reply.started": "2025-10-17T06:59:00.056301Z",
          "shell.execute_reply": "2025-10-17T06:59:04.070162Z"
        },
        "id": "yWZPUQ-O-aq2",
        "outputId": "8cc0e30b-88ef-44f4-c7ac-03debdcbb71d"
      },
      "outputs": [
        {
          "name": "stdout",
          "text": "DONE\n",
          "output_type": "stream"
        }
      ],
      "execution_count": null
    },
    {
      "cell_type": "code",
      "source": [
        "# Define SQL Query to Retrieve Open Weather Data from Google Cloud BigQuery\n",
        "sql = (\n",
        "    'SELECT *'\n",
        "    'FROM `project-adrian-aluoch.youtube_trends_ke.trends`'\n",
        "      )\n",
        "\n",
        "# Run SQL Query\n",
        "data = client.query(sql).to_dataframe()"
      ],
      "metadata": {
        "trusted": true,
        "execution": {
          "iopub.status.busy": "2025-10-17T06:59:04.072404Z",
          "iopub.execute_input": "2025-10-17T06:59:04.072745Z",
          "iopub.status.idle": "2025-10-17T06:59:06.106315Z",
          "shell.execute_reply.started": "2025-10-17T06:59:04.072707Z",
          "shell.execute_reply": "2025-10-17T06:59:06.105570Z"
        },
        "id": "PIB14S8f-aq3"
      },
      "outputs": [],
      "execution_count": null
    },
    {
      "cell_type": "code",
      "source": [
        "# Delete Original Table\n",
        "client.delete_table(table_id)\n",
        "print(f\"Table deleted successfully.\")\n",
        "\n",
        "# Check Total Number of Duplicate Records\n",
        "duplicated = data.duplicated(subset=['video_id']).sum()\n",
        "\n",
        "# Remove Duplicate Records\n",
        "data.drop_duplicates(subset=['video_id'], inplace=True)"
      ],
      "metadata": {
        "trusted": true,
        "execution": {
          "iopub.status.busy": "2025-10-17T06:59:06.107200Z",
          "iopub.execute_input": "2025-10-17T06:59:06.107467Z",
          "iopub.status.idle": "2025-10-17T06:59:06.330311Z",
          "shell.execute_reply.started": "2025-10-17T06:59:06.107445Z",
          "shell.execute_reply": "2025-10-17T06:59:06.329558Z"
        },
        "id": "Xru_Gnku-aq4",
        "outputId": "0f4365cc-8200-482b-bf3c-551150955e0c"
      },
      "outputs": [
        {
          "name": "stdout",
          "text": "Table deleted successfully.\n",
          "output_type": "stream"
        }
      ],
      "execution_count": null
    },
    {
      "cell_type": "code",
      "source": [
        "data['tags'] = data['tags'].astype(str)"
      ],
      "metadata": {
        "trusted": true,
        "execution": {
          "iopub.status.busy": "2025-10-17T06:59:06.331269Z",
          "iopub.execute_input": "2025-10-17T06:59:06.331611Z",
          "iopub.status.idle": "2025-10-17T06:59:06.337301Z",
          "shell.execute_reply.started": "2025-10-17T06:59:06.331590Z",
          "shell.execute_reply": "2025-10-17T06:59:06.336394Z"
        },
        "id": "aFDnO_eY-aq5"
      },
      "outputs": [],
      "execution_count": null
    },
    {
      "cell_type": "code",
      "source": [
        "# Define the dataset ID and table ID\n",
        "dataset_id = 'youtube_trends_ke'\n",
        "table_id = 'trends'\n",
        "\n",
        "# Define the BigQuery schema for YouTube trending videos\n",
        "schema = [\n",
        "    bigquery.SchemaField(\"country_code\", \"STRING\"),\n",
        "    bigquery.SchemaField(\"country_name\", \"STRING\"),\n",
        "    bigquery.SchemaField(\"region\", \"STRING\"),\n",
        "    bigquery.SchemaField(\"video_id\", \"STRING\"),\n",
        "    bigquery.SchemaField(\"title\", \"STRING\"),\n",
        "    bigquery.SchemaField(\"description\", \"STRING\"),\n",
        "    bigquery.SchemaField(\"channel_title\", \"STRING\"),\n",
        "    bigquery.SchemaField(\"category_id\", \"STRING\"),\n",
        "    bigquery.SchemaField(\"category_name\", \"STRING\"),\n",
        "    bigquery.SchemaField(\"published_at\", \"STRING\"),\n",
        "    bigquery.SchemaField(\"tags\", \"STRING\"),  # optional: convert list to string before upload\n",
        "    bigquery.SchemaField(\"view_count\", \"INTEGER\"),\n",
        "    bigquery.SchemaField(\"like_count\", \"INTEGER\"),\n",
        "    bigquery.SchemaField(\"comment_count\", \"INTEGER\")\n",
        "]\n",
        "\n",
        "# Define the table reference\n",
        "table_ref = client.dataset(dataset_id).table(table_id)\n",
        "\n",
        "# Create the table object\n",
        "table = bigquery.Table(table_ref, schema=schema)\n",
        "\n",
        "try:\n",
        "    # Create the table in BigQuery\n",
        "    table = client.create_table(table)\n",
        "    print(f\"Table {table.table_id} created successfully.\")\n",
        "except Exception as e:\n",
        "    print(f\"Table {table.table_id} failed\")"
      ],
      "metadata": {
        "trusted": true,
        "execution": {
          "iopub.status.busy": "2025-10-17T06:59:06.338379Z",
          "iopub.execute_input": "2025-10-17T06:59:06.338715Z",
          "iopub.status.idle": "2025-10-17T06:59:06.580222Z",
          "shell.execute_reply.started": "2025-10-17T06:59:06.338687Z",
          "shell.execute_reply": "2025-10-17T06:59:06.579399Z"
        },
        "id": "BwGBoXFK-aq6",
        "outputId": "c97279a4-3091-4bf0-af8b-4945c5a8ea2b"
      },
      "outputs": [
        {
          "name": "stdout",
          "text": "Table trends created successfully.\n",
          "output_type": "stream"
        }
      ],
      "execution_count": null
    },
    {
      "cell_type": "code",
      "source": [
        "# Define the BigQuery table ID\n",
        "table_id = 'project-adrian-aluoch.youtube_trends_ke.trends'\n",
        "\n",
        "# Load the data into the BigQuery table\n",
        "job = client.load_table_from_dataframe(data, table_id)\n",
        "\n",
        "# Wait for the job to complete\n",
        "while job.state != 'DONE':\n",
        "    time.sleep(2)\n",
        "    job.reload()\n",
        "    print(job.state)"
      ],
      "metadata": {
        "trusted": true,
        "execution": {
          "iopub.status.busy": "2025-10-17T06:59:06.581125Z",
          "iopub.execute_input": "2025-10-17T06:59:06.581392Z",
          "iopub.status.idle": "2025-10-17T06:59:10.394191Z",
          "shell.execute_reply.started": "2025-10-17T06:59:06.581361Z",
          "shell.execute_reply": "2025-10-17T06:59:10.393265Z"
        },
        "id": "jQRhjFdC-aq7",
        "outputId": "1b58eeef-11ab-40e6-966b-6296d6d8ea66"
      },
      "outputs": [
        {
          "name": "stdout",
          "text": "DONE\n",
          "output_type": "stream"
        }
      ],
      "execution_count": null
    }
  ]
}